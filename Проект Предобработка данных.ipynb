{
 "cells": [
  {
   "cell_type": "markdown",
   "id": "a9470045",
   "metadata": {
    "deletable": false,
    "editable": false,
    "id": "c81daeeb"
   },
   "source": [
    "# Исследование надежности заемщиков\n"
   ]
  },
  {
   "cell_type": "markdown",
   "id": "f36ace35",
   "metadata": {
    "deletable": false,
    "editable": false,
    "id": "827c20bf"
   },
   "source": [
    "Во второй части проекта вы выполните шаги 3 и 4. Их вручную проверит ревьюер.\n",
    "Чтобы вам не пришлось писать код заново для шагов 1 и 2, мы добавили авторские решения в ячейки с кодом. \n",
    "\n"
   ]
  },
  {
   "cell_type": "markdown",
   "id": "69c4493c",
   "metadata": {
    "deletable": false,
    "editable": false,
    "id": "744d7639"
   },
   "source": [
    "## Откройте таблицу и изучите общую информацию о данных"
   ]
  },
  {
   "cell_type": "markdown",
   "id": "8e145604",
   "metadata": {
    "deletable": false,
    "editable": false,
    "id": "e7a14c31"
   },
   "source": [
    "**Задание 1. Импортируйте библиотеку pandas. Считайте данные из csv-файла в датафрейм и сохраните в переменную `data`. Путь к файлу:**\n",
    "\n",
    "`/datasets/data.csv`"
   ]
  },
  {
   "cell_type": "code",
   "execution_count": 1,
   "id": "e8ae360a",
   "metadata": {
    "deletable": false,
    "id": "7bcf75c9"
   },
   "outputs": [],
   "source": [
    "import pandas as pd\n",
    "\n",
    "try:\n",
    "    data = pd.read_csv('/datasets/data.csv')\n",
    "except:\n",
    "    data = pd.read_csv('https://code.s3.yandex.net/datasets/data.csv')"
   ]
  },
  {
   "cell_type": "markdown",
   "id": "04973e7b",
   "metadata": {
    "deletable": false,
    "editable": false,
    "id": "b8038fe3"
   },
   "source": [
    "**Задание 2. Выведите первые 20 строчек датафрейма `data` на экран.**"
   ]
  },
  {
   "cell_type": "code",
   "execution_count": 2,
   "id": "4af99df2",
   "metadata": {
    "deletable": false,
    "id": "2a7cab99",
    "outputId": "1a8f3ef2-d323-4ec2-ddf7-89670b5944c4"
   },
   "outputs": [
    {
     "data": {
      "text/html": [
       "<div>\n",
       "<style scoped>\n",
       "    .dataframe tbody tr th:only-of-type {\n",
       "        vertical-align: middle;\n",
       "    }\n",
       "\n",
       "    .dataframe tbody tr th {\n",
       "        vertical-align: top;\n",
       "    }\n",
       "\n",
       "    .dataframe thead th {\n",
       "        text-align: right;\n",
       "    }\n",
       "</style>\n",
       "<table border=\"1\" class=\"dataframe\">\n",
       "  <thead>\n",
       "    <tr style=\"text-align: right;\">\n",
       "      <th></th>\n",
       "      <th>children</th>\n",
       "      <th>days_employed</th>\n",
       "      <th>dob_years</th>\n",
       "      <th>education</th>\n",
       "      <th>education_id</th>\n",
       "      <th>family_status</th>\n",
       "      <th>family_status_id</th>\n",
       "      <th>gender</th>\n",
       "      <th>income_type</th>\n",
       "      <th>debt</th>\n",
       "      <th>total_income</th>\n",
       "      <th>purpose</th>\n",
       "    </tr>\n",
       "  </thead>\n",
       "  <tbody>\n",
       "    <tr>\n",
       "      <th>0</th>\n",
       "      <td>1</td>\n",
       "      <td>-8437.673028</td>\n",
       "      <td>42</td>\n",
       "      <td>высшее</td>\n",
       "      <td>0</td>\n",
       "      <td>женат / замужем</td>\n",
       "      <td>0</td>\n",
       "      <td>F</td>\n",
       "      <td>сотрудник</td>\n",
       "      <td>0</td>\n",
       "      <td>253875.639453</td>\n",
       "      <td>покупка жилья</td>\n",
       "    </tr>\n",
       "    <tr>\n",
       "      <th>1</th>\n",
       "      <td>1</td>\n",
       "      <td>-4024.803754</td>\n",
       "      <td>36</td>\n",
       "      <td>среднее</td>\n",
       "      <td>1</td>\n",
       "      <td>женат / замужем</td>\n",
       "      <td>0</td>\n",
       "      <td>F</td>\n",
       "      <td>сотрудник</td>\n",
       "      <td>0</td>\n",
       "      <td>112080.014102</td>\n",
       "      <td>приобретение автомобиля</td>\n",
       "    </tr>\n",
       "    <tr>\n",
       "      <th>2</th>\n",
       "      <td>0</td>\n",
       "      <td>-5623.422610</td>\n",
       "      <td>33</td>\n",
       "      <td>Среднее</td>\n",
       "      <td>1</td>\n",
       "      <td>женат / замужем</td>\n",
       "      <td>0</td>\n",
       "      <td>M</td>\n",
       "      <td>сотрудник</td>\n",
       "      <td>0</td>\n",
       "      <td>145885.952297</td>\n",
       "      <td>покупка жилья</td>\n",
       "    </tr>\n",
       "    <tr>\n",
       "      <th>3</th>\n",
       "      <td>3</td>\n",
       "      <td>-4124.747207</td>\n",
       "      <td>32</td>\n",
       "      <td>среднее</td>\n",
       "      <td>1</td>\n",
       "      <td>женат / замужем</td>\n",
       "      <td>0</td>\n",
       "      <td>M</td>\n",
       "      <td>сотрудник</td>\n",
       "      <td>0</td>\n",
       "      <td>267628.550329</td>\n",
       "      <td>дополнительное образование</td>\n",
       "    </tr>\n",
       "    <tr>\n",
       "      <th>4</th>\n",
       "      <td>0</td>\n",
       "      <td>340266.072047</td>\n",
       "      <td>53</td>\n",
       "      <td>среднее</td>\n",
       "      <td>1</td>\n",
       "      <td>гражданский брак</td>\n",
       "      <td>1</td>\n",
       "      <td>F</td>\n",
       "      <td>пенсионер</td>\n",
       "      <td>0</td>\n",
       "      <td>158616.077870</td>\n",
       "      <td>сыграть свадьбу</td>\n",
       "    </tr>\n",
       "    <tr>\n",
       "      <th>5</th>\n",
       "      <td>0</td>\n",
       "      <td>-926.185831</td>\n",
       "      <td>27</td>\n",
       "      <td>высшее</td>\n",
       "      <td>0</td>\n",
       "      <td>гражданский брак</td>\n",
       "      <td>1</td>\n",
       "      <td>M</td>\n",
       "      <td>компаньон</td>\n",
       "      <td>0</td>\n",
       "      <td>255763.565419</td>\n",
       "      <td>покупка жилья</td>\n",
       "    </tr>\n",
       "    <tr>\n",
       "      <th>6</th>\n",
       "      <td>0</td>\n",
       "      <td>-2879.202052</td>\n",
       "      <td>43</td>\n",
       "      <td>высшее</td>\n",
       "      <td>0</td>\n",
       "      <td>женат / замужем</td>\n",
       "      <td>0</td>\n",
       "      <td>F</td>\n",
       "      <td>компаньон</td>\n",
       "      <td>0</td>\n",
       "      <td>240525.971920</td>\n",
       "      <td>операции с жильем</td>\n",
       "    </tr>\n",
       "    <tr>\n",
       "      <th>7</th>\n",
       "      <td>0</td>\n",
       "      <td>-152.779569</td>\n",
       "      <td>50</td>\n",
       "      <td>СРЕДНЕЕ</td>\n",
       "      <td>1</td>\n",
       "      <td>женат / замужем</td>\n",
       "      <td>0</td>\n",
       "      <td>M</td>\n",
       "      <td>сотрудник</td>\n",
       "      <td>0</td>\n",
       "      <td>135823.934197</td>\n",
       "      <td>образование</td>\n",
       "    </tr>\n",
       "    <tr>\n",
       "      <th>8</th>\n",
       "      <td>2</td>\n",
       "      <td>-6929.865299</td>\n",
       "      <td>35</td>\n",
       "      <td>ВЫСШЕЕ</td>\n",
       "      <td>0</td>\n",
       "      <td>гражданский брак</td>\n",
       "      <td>1</td>\n",
       "      <td>F</td>\n",
       "      <td>сотрудник</td>\n",
       "      <td>0</td>\n",
       "      <td>95856.832424</td>\n",
       "      <td>на проведение свадьбы</td>\n",
       "    </tr>\n",
       "    <tr>\n",
       "      <th>9</th>\n",
       "      <td>0</td>\n",
       "      <td>-2188.756445</td>\n",
       "      <td>41</td>\n",
       "      <td>среднее</td>\n",
       "      <td>1</td>\n",
       "      <td>женат / замужем</td>\n",
       "      <td>0</td>\n",
       "      <td>M</td>\n",
       "      <td>сотрудник</td>\n",
       "      <td>0</td>\n",
       "      <td>144425.938277</td>\n",
       "      <td>покупка жилья для семьи</td>\n",
       "    </tr>\n",
       "  </tbody>\n",
       "</table>\n",
       "</div>"
      ],
      "text/plain": [
       "   children  days_employed  dob_years education  education_id  \\\n",
       "0         1   -8437.673028         42    высшее             0   \n",
       "1         1   -4024.803754         36   среднее             1   \n",
       "2         0   -5623.422610         33   Среднее             1   \n",
       "3         3   -4124.747207         32   среднее             1   \n",
       "4         0  340266.072047         53   среднее             1   \n",
       "5         0    -926.185831         27    высшее             0   \n",
       "6         0   -2879.202052         43    высшее             0   \n",
       "7         0    -152.779569         50   СРЕДНЕЕ             1   \n",
       "8         2   -6929.865299         35    ВЫСШЕЕ             0   \n",
       "9         0   -2188.756445         41   среднее             1   \n",
       "\n",
       "      family_status  family_status_id gender income_type  debt   total_income  \\\n",
       "0   женат / замужем                 0      F   сотрудник     0  253875.639453   \n",
       "1   женат / замужем                 0      F   сотрудник     0  112080.014102   \n",
       "2   женат / замужем                 0      M   сотрудник     0  145885.952297   \n",
       "3   женат / замужем                 0      M   сотрудник     0  267628.550329   \n",
       "4  гражданский брак                 1      F   пенсионер     0  158616.077870   \n",
       "5  гражданский брак                 1      M   компаньон     0  255763.565419   \n",
       "6   женат / замужем                 0      F   компаньон     0  240525.971920   \n",
       "7   женат / замужем                 0      M   сотрудник     0  135823.934197   \n",
       "8  гражданский брак                 1      F   сотрудник     0   95856.832424   \n",
       "9   женат / замужем                 0      M   сотрудник     0  144425.938277   \n",
       "\n",
       "                      purpose  \n",
       "0               покупка жилья  \n",
       "1     приобретение автомобиля  \n",
       "2               покупка жилья  \n",
       "3  дополнительное образование  \n",
       "4             сыграть свадьбу  \n",
       "5               покупка жилья  \n",
       "6           операции с жильем  \n",
       "7                 образование  \n",
       "8       на проведение свадьбы  \n",
       "9     покупка жилья для семьи  "
      ]
     },
     "execution_count": 2,
     "metadata": {},
     "output_type": "execute_result"
    }
   ],
   "source": [
    "data.head(10)"
   ]
  },
  {
   "cell_type": "markdown",
   "id": "8be97330",
   "metadata": {
    "deletable": false,
    "editable": false,
    "id": "1c12e233"
   },
   "source": [
    "**Задание 3. Выведите основную информацию о датафрейме с помощью метода `info()`.**"
   ]
  },
  {
   "cell_type": "code",
   "execution_count": 3,
   "id": "546ef173",
   "metadata": {
    "deletable": false,
    "id": "2b757bca",
    "outputId": "15376089-8dad-46c9-b520-c05248d43158"
   },
   "outputs": [
    {
     "name": "stdout",
     "output_type": "stream",
     "text": [
      "<class 'pandas.core.frame.DataFrame'>\n",
      "RangeIndex: 21525 entries, 0 to 21524\n",
      "Data columns (total 12 columns):\n",
      " #   Column            Non-Null Count  Dtype  \n",
      "---  ------            --------------  -----  \n",
      " 0   children          21525 non-null  int64  \n",
      " 1   days_employed     19351 non-null  float64\n",
      " 2   dob_years         21525 non-null  int64  \n",
      " 3   education         21525 non-null  object \n",
      " 4   education_id      21525 non-null  int64  \n",
      " 5   family_status     21525 non-null  object \n",
      " 6   family_status_id  21525 non-null  int64  \n",
      " 7   gender            21525 non-null  object \n",
      " 8   income_type       21525 non-null  object \n",
      " 9   debt              21525 non-null  int64  \n",
      " 10  total_income      19351 non-null  float64\n",
      " 11  purpose           21525 non-null  object \n",
      "dtypes: float64(2), int64(5), object(5)\n",
      "memory usage: 2.0+ MB\n"
     ]
    }
   ],
   "source": [
    "data.info()"
   ]
  },
  {
   "cell_type": "markdown",
   "id": "770f9bc6",
   "metadata": {
    "deletable": false,
    "editable": false,
    "id": "333ec665"
   },
   "source": [
    "## Предобработка данных"
   ]
  },
  {
   "cell_type": "markdown",
   "id": "400990d7",
   "metadata": {
    "deletable": false,
    "editable": false,
    "id": "02d92d53"
   },
   "source": [
    "### Удаление пропусков"
   ]
  },
  {
   "cell_type": "markdown",
   "id": "4e6a1d85",
   "metadata": {
    "deletable": false,
    "editable": false,
    "id": "cd84967c"
   },
   "source": [
    "**Задание 4. Выведите количество пропущенных значений для каждого столбца. Используйте комбинацию двух методов.**"
   ]
  },
  {
   "cell_type": "code",
   "execution_count": 4,
   "id": "b74b1703",
   "metadata": {
    "deletable": false,
    "id": "7f9b2309",
    "outputId": "81f4d817-781c-465c-ed15-91ce4446810d"
   },
   "outputs": [
    {
     "data": {
      "text/plain": [
       "children               0\n",
       "days_employed       2174\n",
       "dob_years              0\n",
       "education              0\n",
       "education_id           0\n",
       "family_status          0\n",
       "family_status_id       0\n",
       "gender                 0\n",
       "income_type            0\n",
       "debt                   0\n",
       "total_income        2174\n",
       "purpose                0\n",
       "dtype: int64"
      ]
     },
     "execution_count": 4,
     "metadata": {},
     "output_type": "execute_result"
    }
   ],
   "source": [
    "data.isna().sum()"
   ]
  },
  {
   "cell_type": "markdown",
   "id": "e3f4182e",
   "metadata": {
    "deletable": false,
    "editable": false,
    "id": "db86e27b"
   },
   "source": [
    "**Задание 5. В двух столбцах есть пропущенные значения. Один из них — `days_employed`. Пропуски в этом столбце вы обработаете на следующем этапе. Другой столбец с пропущенными значениями — `total_income` — хранит данные о доходах. На сумму дохода сильнее всего влияет тип занятости, поэтому заполнить пропуски в этом столбце нужно медианным значением по каждому типу из столбца `income_type`. Например, у человека с типом занятости `сотрудник` пропуск в столбце `total_income` должен быть заполнен медианным доходом среди всех записей с тем же типом.**"
   ]
  },
  {
   "cell_type": "code",
   "execution_count": 5,
   "id": "87953608",
   "metadata": {
    "deletable": false,
    "id": "42006a93"
   },
   "outputs": [],
   "source": [
    "for t in data['income_type'].unique():\n",
    "    data.loc[(data['income_type'] == t) & (data['total_income'].isna()), 'total_income'] = \\\n",
    "    data.loc[(data['income_type'] == t), 'total_income'].median()"
   ]
  },
  {
   "cell_type": "markdown",
   "id": "0a08c065",
   "metadata": {
    "deletable": false,
    "editable": false,
    "id": "89da5ece"
   },
   "source": [
    "### Обработка аномальных значений"
   ]
  },
  {
   "cell_type": "markdown",
   "id": "355ed39d",
   "metadata": {
    "deletable": false,
    "editable": false,
    "id": "57964554"
   },
   "source": [
    "**Задание 6. В данных могут встречаться артефакты (аномалии) — значения, которые не отражают действительность и появились по какой-то ошибке. таким артефактом будет отрицательное количество дней трудового стажа в столбце `days_employed`. Для реальных данных это нормально. Обработайте значения в этом столбце: замените все отрицательные значения положительными с помощью метода `abs()`.**"
   ]
  },
  {
   "cell_type": "code",
   "execution_count": 6,
   "id": "4f99932f",
   "metadata": {
    "deletable": false,
    "id": "f6f055bf"
   },
   "outputs": [],
   "source": [
    "data['days_employed'] = data['days_employed'].abs()"
   ]
  },
  {
   "cell_type": "markdown",
   "id": "cc5008f3",
   "metadata": {
    "deletable": false,
    "editable": false,
    "id": "6107dd2f"
   },
   "source": [
    "**Задание 7. Для каждого типа занятости выведите медианное значение трудового стажа `days_employed` в днях.**"
   ]
  },
  {
   "cell_type": "code",
   "execution_count": 7,
   "id": "44c5732b",
   "metadata": {
    "deletable": false,
    "id": "85a5faf6",
    "outputId": "801ef80e-522b-4668-f34e-565af7432bcf"
   },
   "outputs": [
    {
     "data": {
      "text/plain": [
       "income_type\n",
       "безработный        366413.652744\n",
       "в декрете            3296.759962\n",
       "госслужащий          2689.368353\n",
       "компаньон            1547.382223\n",
       "пенсионер          365213.306266\n",
       "предприниматель       520.848083\n",
       "сотрудник            1574.202821\n",
       "студент               578.751554\n",
       "Name: days_employed, dtype: float64"
      ]
     },
     "execution_count": 7,
     "metadata": {},
     "output_type": "execute_result"
    }
   ],
   "source": [
    "data.groupby('income_type')['days_employed'].agg('median')"
   ]
  },
  {
   "cell_type": "markdown",
   "id": "bda2b2d4",
   "metadata": {
    "deletable": false,
    "editable": false,
    "id": "38d1a030"
   },
   "source": [
    "У двух типов (безработные и пенсионеры) получатся аномально большие значения. Исправить такие значения сложно, поэтому оставьте их как есть. Тем более этот столбец не понадобится вам для исследования."
   ]
  },
  {
   "cell_type": "markdown",
   "id": "72034565",
   "metadata": {
    "deletable": false,
    "editable": false,
    "id": "d8a9f147"
   },
   "source": [
    "**Задание 8. Выведите перечень уникальных значений столбца `children`.**"
   ]
  },
  {
   "cell_type": "code",
   "execution_count": 8,
   "id": "b7838097",
   "metadata": {
    "deletable": false,
    "id": "ef5056eb",
    "outputId": "6975b15c-7f95-4697-d16d-a0c79b657b03"
   },
   "outputs": [
    {
     "data": {
      "text/plain": [
       "array([ 1,  0,  3,  2, -1,  4, 20,  5])"
      ]
     },
     "execution_count": 8,
     "metadata": {},
     "output_type": "execute_result"
    }
   ],
   "source": [
    "data['children'].unique()"
   ]
  },
  {
   "cell_type": "markdown",
   "id": "25943172",
   "metadata": {
    "deletable": false,
    "editable": false,
    "id": "40b9ebf2"
   },
   "source": [
    "**Задание 9. В столбце `children` есть два аномальных значения. Удалите строки, в которых встречаются такие аномальные значения из датафрейма `data`.**"
   ]
  },
  {
   "cell_type": "code",
   "execution_count": 9,
   "id": "6e5cf4e9",
   "metadata": {
    "deletable": false,
    "id": "3ff9801d"
   },
   "outputs": [],
   "source": [
    "data = data[(data['children'] != -1) & (data['children'] != 20)]"
   ]
  },
  {
   "cell_type": "markdown",
   "id": "f8d2637c",
   "metadata": {
    "deletable": false,
    "editable": false,
    "id": "bbc4d0ce"
   },
   "source": [
    "**Задание 10. Ещё раз выведите перечень уникальных значений столбца `children`, чтобы убедиться, что артефакты удалены.**"
   ]
  },
  {
   "cell_type": "code",
   "execution_count": 10,
   "id": "70b97e73",
   "metadata": {
    "deletable": false,
    "id": "ad4fa8b7",
    "outputId": "b2097101-d49d-44d9-901b-32a65c9463d1"
   },
   "outputs": [
    {
     "data": {
      "text/plain": [
       "array([1, 0, 3, 2, 4, 5])"
      ]
     },
     "execution_count": 10,
     "metadata": {},
     "output_type": "execute_result"
    }
   ],
   "source": [
    "data['children'].unique()"
   ]
  },
  {
   "cell_type": "markdown",
   "id": "788a3787",
   "metadata": {
    "deletable": false,
    "editable": false,
    "id": "75440b63"
   },
   "source": [
    "### Удаление пропусков (продолжение)"
   ]
  },
  {
   "cell_type": "markdown",
   "id": "017fbbc5",
   "metadata": {
    "deletable": false,
    "editable": false,
    "id": "f4ea573f"
   },
   "source": [
    "**Задание 11. Заполните пропуски в столбце `days_employed` медианными значениями по каждого типа занятости `income_type`.**"
   ]
  },
  {
   "cell_type": "code",
   "execution_count": 11,
   "id": "caa697fc",
   "metadata": {
    "deletable": false,
    "id": "af6b1a7e"
   },
   "outputs": [],
   "source": [
    "for t in data['income_type'].unique():\n",
    "    data.loc[(data['income_type'] == t) & (data['days_employed'].isna()), 'days_employed'] = \\\n",
    "    data.loc[(data['income_type'] == t), 'days_employed'].median()"
   ]
  },
  {
   "cell_type": "markdown",
   "id": "8e913fde",
   "metadata": {
    "deletable": false,
    "editable": false,
    "id": "2753f40d"
   },
   "source": [
    "**Задание 12. Убедитесь, что все пропуски заполнены. Проверьте себя и ещё раз выведите количество пропущенных значений для каждого столбца с помощью двух методов.**"
   ]
  },
  {
   "cell_type": "code",
   "execution_count": 12,
   "id": "ee1a42c0",
   "metadata": {
    "deletable": false,
    "id": "55f78bc2",
    "outputId": "8da1e4e1-358e-4e87-98c9-f261bce0a7b2"
   },
   "outputs": [
    {
     "data": {
      "text/plain": [
       "children            0\n",
       "days_employed       0\n",
       "dob_years           0\n",
       "education           0\n",
       "education_id        0\n",
       "family_status       0\n",
       "family_status_id    0\n",
       "gender              0\n",
       "income_type         0\n",
       "debt                0\n",
       "total_income        0\n",
       "purpose             0\n",
       "dtype: int64"
      ]
     },
     "execution_count": 12,
     "metadata": {},
     "output_type": "execute_result"
    }
   ],
   "source": [
    "data.isna().sum()"
   ]
  },
  {
   "cell_type": "markdown",
   "id": "438d1f76",
   "metadata": {
    "deletable": false,
    "editable": false,
    "id": "ddc81e43"
   },
   "source": [
    "### Изменение типов данных"
   ]
  },
  {
   "cell_type": "markdown",
   "id": "002f4915",
   "metadata": {
    "deletable": false,
    "editable": false,
    "id": "42d19d24"
   },
   "source": [
    "**Задание 13. Замените вещественный тип данных в столбце `total_income` на целочисленный с помощью метода `astype()`.**"
   ]
  },
  {
   "cell_type": "code",
   "execution_count": 13,
   "id": "ca29d17d",
   "metadata": {
    "deletable": false,
    "id": "920b65ad"
   },
   "outputs": [],
   "source": [
    "data['total_income'] = data['total_income'].astype(int)"
   ]
  },
  {
   "cell_type": "markdown",
   "id": "7b578cb8",
   "metadata": {
    "deletable": false,
    "editable": false,
    "id": "80c420ba"
   },
   "source": [
    "### Обработка дубликатов"
   ]
  },
  {
   "cell_type": "markdown",
   "id": "e7eb3f5a",
   "metadata": {
    "deletable": false,
    "editable": false
   },
   "source": [
    "**Задание 14. Обработайте неявные дубликаты в столбце `education`. В этом столбце есть одни и те же значения, но записанные по-разному: с использованием заглавных и строчных букв. Приведите их к нижнему регистру. Проверьте остальные столбцы.**"
   ]
  },
  {
   "cell_type": "code",
   "execution_count": 14,
   "id": "ec81e0a1",
   "metadata": {
    "deletable": false
   },
   "outputs": [],
   "source": [
    "data['education'] = data['education'].str.lower()"
   ]
  },
  {
   "cell_type": "markdown",
   "id": "13669582",
   "metadata": {
    "deletable": false,
    "editable": false,
    "id": "dc587695"
   },
   "source": [
    "**Задание 15. Выведите на экран количество строк-дубликатов в данных. Если такие строки присутствуют, удалите их.**"
   ]
  },
  {
   "cell_type": "code",
   "execution_count": 15,
   "id": "045dd3b5",
   "metadata": {
    "deletable": false,
    "id": "3ee445e4",
    "outputId": "9684deba-1934-42d1-99e1-cda61740f822"
   },
   "outputs": [
    {
     "data": {
      "text/plain": [
       "71"
      ]
     },
     "execution_count": 15,
     "metadata": {},
     "output_type": "execute_result"
    }
   ],
   "source": [
    "data.duplicated().sum()"
   ]
  },
  {
   "cell_type": "code",
   "execution_count": 16,
   "id": "de0b2a7b",
   "metadata": {
    "deletable": false,
    "id": "8575fe05"
   },
   "outputs": [],
   "source": [
    "data = data.drop_duplicates()"
   ]
  },
  {
   "cell_type": "markdown",
   "id": "cbeb6971",
   "metadata": {
    "deletable": false,
    "editable": false,
    "id": "9904cf55"
   },
   "source": [
    "### Категоризация данных"
   ]
  },
  {
   "cell_type": "markdown",
   "id": "6e851f1c",
   "metadata": {
    "deletable": false,
    "editable": false,
    "id": "72fcc8a2"
   },
   "source": [
    "**Задание 16. На основании диапазонов, указанных ниже, создайте в датафрейме `data` столбец `total_income_category` с категориями:**\n",
    "\n",
    "- 0–30000 — `'E'`;\n",
    "- 30001–50000 — `'D'`;\n",
    "- 50001–200000 — `'C'`;\n",
    "- 200001–1000000 — `'B'`;\n",
    "- 1000001 и выше — `'A'`.\n",
    "\n",
    "\n",
    "**Например, кредитополучателю с доходом 25000 нужно назначить категорию `'E'`, а клиенту, получающему 235000, — `'B'`. Используйте собственную функцию с именем `categorize_income()` и метод `apply()`.**"
   ]
  },
  {
   "cell_type": "code",
   "execution_count": 17,
   "id": "709e52d6",
   "metadata": {
    "deletable": false,
    "id": "e1771346"
   },
   "outputs": [],
   "source": [
    "def categorize_income(income):\n",
    "    try:\n",
    "        if 0 <= income <= 30000:\n",
    "            return 'E'\n",
    "        elif 30001 <= income <= 50000:\n",
    "            return 'D'\n",
    "        elif 50001 <= income <= 200000:\n",
    "            return 'C'\n",
    "        elif 200001 <= income <= 1000000:\n",
    "            return 'B'\n",
    "        elif income >= 1000001:\n",
    "            return 'A'\n",
    "    except:\n",
    "        pass"
   ]
  },
  {
   "cell_type": "code",
   "execution_count": 18,
   "id": "3fb7899f",
   "metadata": {
    "deletable": false,
    "id": "d5f3586d"
   },
   "outputs": [],
   "source": [
    "data['total_income_category'] = data['total_income'].apply(categorize_income)"
   ]
  },
  {
   "cell_type": "markdown",
   "id": "58b64ba6",
   "metadata": {
    "deletable": false,
    "editable": false,
    "id": "dde49b5c"
   },
   "source": [
    "**Задание 17. Выведите на экран перечень уникальных целей взятия кредита из столбца `purpose`.**"
   ]
  },
  {
   "cell_type": "code",
   "execution_count": 19,
   "id": "a8c284c4",
   "metadata": {
    "deletable": false,
    "id": "f67ce9b3",
    "outputId": "673c12d9-7d7e-4ae0-9812-c622c89dd244"
   },
   "outputs": [
    {
     "data": {
      "text/plain": [
       "array(['покупка жилья', 'приобретение автомобиля',\n",
       "       'дополнительное образование', 'сыграть свадьбу',\n",
       "       'операции с жильем', 'образование', 'на проведение свадьбы',\n",
       "       'покупка жилья для семьи', 'покупка недвижимости',\n",
       "       'покупка коммерческой недвижимости', 'покупка жилой недвижимости',\n",
       "       'строительство собственной недвижимости', 'недвижимость',\n",
       "       'строительство недвижимости', 'на покупку подержанного автомобиля',\n",
       "       'на покупку своего автомобиля',\n",
       "       'операции с коммерческой недвижимостью',\n",
       "       'строительство жилой недвижимости', 'жилье',\n",
       "       'операции со своей недвижимостью', 'автомобили',\n",
       "       'заняться образованием', 'сделка с подержанным автомобилем',\n",
       "       'получение образования', 'автомобиль', 'свадьба',\n",
       "       'получение дополнительного образования', 'покупка своего жилья',\n",
       "       'операции с недвижимостью', 'получение высшего образования',\n",
       "       'свой автомобиль', 'сделка с автомобилем',\n",
       "       'профильное образование', 'высшее образование',\n",
       "       'покупка жилья для сдачи', 'на покупку автомобиля', 'ремонт жилью',\n",
       "       'заняться высшим образованием'], dtype=object)"
      ]
     },
     "execution_count": 19,
     "metadata": {},
     "output_type": "execute_result"
    }
   ],
   "source": [
    "data['purpose'].unique()"
   ]
  },
  {
   "cell_type": "markdown",
   "id": "d674263d",
   "metadata": {
    "deletable": false,
    "editable": false,
    "id": "85d0aef0"
   },
   "source": [
    "**Задание 18. Создайте функцию, которая на основании данных из столбца `purpose` сформирует новый столбец `purpose_category`, в который войдут следующие категории:**\n",
    "\n",
    "- `'операции с автомобилем'`,\n",
    "- `'операции с недвижимостью'`,\n",
    "- `'проведение свадьбы'`,\n",
    "- `'получение образования'`.\n",
    "\n",
    "**Например, если в столбце `purpose` находится подстрока `'на покупку автомобиля'`, то в столбце `purpose_category` должна появиться строка `'операции с автомобилем'`.**\n",
    "\n",
    "**Используйте собственную функцию с именем `categorize_purpose()` и метод `apply()`. Изучите данные в столбце `purpose` и определите, какие подстроки помогут вам правильно определить категорию.**"
   ]
  },
  {
   "cell_type": "code",
   "execution_count": 20,
   "id": "29ca0927",
   "metadata": {
    "deletable": false,
    "id": "e149fab4"
   },
   "outputs": [],
   "source": [
    "def categorize_purpose(row):\n",
    "    try:\n",
    "        if 'автом' in row:\n",
    "            return 'операции с автомобилем'\n",
    "        elif 'жил' in row or 'недвиж' in row:\n",
    "            return 'операции с недвижимостью'\n",
    "        elif 'свад' in row:\n",
    "            return 'проведение свадьбы'\n",
    "        elif 'образов' in row:\n",
    "            return 'получение образования'\n",
    "    except:\n",
    "        return 'нет категории'"
   ]
  },
  {
   "cell_type": "code",
   "execution_count": 21,
   "id": "7a924e96",
   "metadata": {
    "deletable": false,
    "id": "bf36e69b"
   },
   "outputs": [],
   "source": [
    "data['purpose_category'] = data['purpose'].apply(categorize_purpose)"
   ]
  },
  {
   "cell_type": "markdown",
   "id": "5e068c86",
   "metadata": {
    "deletable": false,
    "editable": false,
    "id": "09b242bf"
   },
   "source": [
    "### Шаг 3. Исследуйте данные и ответьте на вопросы"
   ]
  },
  {
   "cell_type": "code",
   "execution_count": 22,
   "id": "5d05f63b",
   "metadata": {},
   "outputs": [],
   "source": [
    "def create_pivot_table(data, group_by_column, agg_column='debt'):\n",
    "    \"\"\"\n",
    "    Функция для создания сводной таблицы с количеством должников и соотношением должников.\n",
    "\n",
    "    data: Данные\n",
    "    group_by_column: Столбец, по которому нужно сгруппировать данные\n",
    "    agg_column: Столбец, который будет агрегироваться (по умолчанию 'debt')\n",
    "    return: Сводная таблица\n",
    "    \"\"\"\n",
    "    # Сводная таблица с количеством должников\n",
    "    pivot_table = data.groupby(group_by_column).agg(\n",
    "        number_of_debtors=('debt', 'sum'),  # Количество должников\n",
    "        total_people=('debt', 'count')       # Общее количество людей в группе\n",
    "    )\n",
    "\n",
    "    # Вычисляем долю должников\n",
    "    pivot_table['proportion_of_debtors'] = pivot_table['number_of_debtors'] / pivot_table['total_people']\n",
    "\n",
    "    # Форматируем вывод\n",
    "    pivot_table['proportion_of_debtors'] = pivot_table['proportion_of_debtors'].apply(lambda x: f\"{x:.2%}\")  # Форматируем как процент\n",
    "\n",
    "    print(f'Сводная таблица для {group_by_column}:')\n",
    "    print(pivot_table)\n",
    "    \n",
    "    return pivot_table"
   ]
  },
  {
   "cell_type": "code",
   "execution_count": 23,
   "id": "656ce2f2",
   "metadata": {},
   "outputs": [],
   "source": [
    "def create_pivot_table(data, group_by_column, agg_column='debt'):\n",
    "    \"\"\"\n",
    "    Функция для создания сводной таблицы с количеством должников и долей должников.\n",
    "\n",
    "    data: Данные\n",
    "    group_by_column: Столбец для группировки данных\n",
    "    agg_column: Столбец для агрегации (по умолчанию 'debt')\n",
    "    return: Сводная таблица\n",
    "    \"\"\"\n",
    "    # Создаем сводную таблицу с количеством должников и долей должников\n",
    "    pivot_table = data.groupby(group_by_column)[agg_column].agg(\n",
    "        number_of_debtors='sum',             # Количество должников\n",
    "        total_people='count',                # Общее количество в группе\n",
    "        proportion_of_debtors='mean'         # Доля должников\n",
    "    )\n",
    "    \n",
    "    # Форматируем долю должников как процент\n",
    "    pivot_table['proportion_of_debtors'] = pivot_table['proportion_of_debtors'].apply(lambda x: f\"{x:.2%}\")\n",
    "    \n",
    "    # Отображаем таблицу\n",
    "    display(pivot_table)\n",
    "    \n",
    "    return pivot_table"
   ]
  },
  {
   "cell_type": "markdown",
   "id": "45f159a3",
   "metadata": {
    "deletable": false,
    "editable": false,
    "id": "c5d66278"
   },
   "source": [
    "#### 3.1 Есть ли зависимость между количеством детей и возвратом кредита в срок?"
   ]
  },
  {
   "cell_type": "code",
   "execution_count": 24,
   "id": "9cdf8d9e",
   "metadata": {
    "deletable": false,
    "id": "2cacfc4a"
   },
   "outputs": [
    {
     "data": {
      "text/html": [
       "<div>\n",
       "<style scoped>\n",
       "    .dataframe tbody tr th:only-of-type {\n",
       "        vertical-align: middle;\n",
       "    }\n",
       "\n",
       "    .dataframe tbody tr th {\n",
       "        vertical-align: top;\n",
       "    }\n",
       "\n",
       "    .dataframe thead th {\n",
       "        text-align: right;\n",
       "    }\n",
       "</style>\n",
       "<table border=\"1\" class=\"dataframe\">\n",
       "  <thead>\n",
       "    <tr style=\"text-align: right;\">\n",
       "      <th></th>\n",
       "      <th>number_of_debtors</th>\n",
       "      <th>total_people</th>\n",
       "      <th>proportion_of_debtors</th>\n",
       "    </tr>\n",
       "    <tr>\n",
       "      <th>children</th>\n",
       "      <th></th>\n",
       "      <th></th>\n",
       "      <th></th>\n",
       "    </tr>\n",
       "  </thead>\n",
       "  <tbody>\n",
       "    <tr>\n",
       "      <th>0</th>\n",
       "      <td>1063</td>\n",
       "      <td>14091</td>\n",
       "      <td>7.54%</td>\n",
       "    </tr>\n",
       "    <tr>\n",
       "      <th>1</th>\n",
       "      <td>444</td>\n",
       "      <td>4808</td>\n",
       "      <td>9.23%</td>\n",
       "    </tr>\n",
       "    <tr>\n",
       "      <th>2</th>\n",
       "      <td>194</td>\n",
       "      <td>2052</td>\n",
       "      <td>9.45%</td>\n",
       "    </tr>\n",
       "    <tr>\n",
       "      <th>3</th>\n",
       "      <td>27</td>\n",
       "      <td>330</td>\n",
       "      <td>8.18%</td>\n",
       "    </tr>\n",
       "    <tr>\n",
       "      <th>4</th>\n",
       "      <td>4</td>\n",
       "      <td>41</td>\n",
       "      <td>9.76%</td>\n",
       "    </tr>\n",
       "    <tr>\n",
       "      <th>5</th>\n",
       "      <td>0</td>\n",
       "      <td>9</td>\n",
       "      <td>0.00%</td>\n",
       "    </tr>\n",
       "  </tbody>\n",
       "</table>\n",
       "</div>"
      ],
      "text/plain": [
       "          number_of_debtors  total_people proportion_of_debtors\n",
       "children                                                       \n",
       "0                      1063         14091                 7.54%\n",
       "1                       444          4808                 9.23%\n",
       "2                       194          2052                 9.45%\n",
       "3                        27           330                 8.18%\n",
       "4                         4            41                 9.76%\n",
       "5                         0             9                 0.00%"
      ]
     },
     "metadata": {},
     "output_type": "display_data"
    }
   ],
   "source": [
    "children_debt = create_pivot_table(data, 'children')  # сводная таблица по количеству детей"
   ]
  },
  {
   "cell_type": "markdown",
   "id": "1d12e237",
   "metadata": {
    "deletable": false,
    "id": "3a6b99ec"
   },
   "source": [
    "**Вывод:** \n",
    "    между количеством детей и возвратом кредита в срок наблюдается зависимость. Процент просрочки кредитов увеличивается с увеличением количества детей (с 7.54% для заемщиков без детей до 9.45% для заемщиков с двумя детьми). Категории с 3, 4 и 5-ю детьми слишком малы, чтобы делать по нм выводы"
   ]
  },
  {
   "cell_type": "markdown",
   "id": "bbf9b06f",
   "metadata": {
    "deletable": false,
    "editable": false,
    "id": "97be82ca"
   },
   "source": [
    "#### 3.2 Есть ли зависимость между семейным положением и возвратом кредита в срок?"
   ]
  },
  {
   "cell_type": "code",
   "execution_count": 25,
   "id": "010b9bb3",
   "metadata": {
    "deletable": false,
    "id": "dc3f7ee8"
   },
   "outputs": [
    {
     "data": {
      "text/html": [
       "<div>\n",
       "<style scoped>\n",
       "    .dataframe tbody tr th:only-of-type {\n",
       "        vertical-align: middle;\n",
       "    }\n",
       "\n",
       "    .dataframe tbody tr th {\n",
       "        vertical-align: top;\n",
       "    }\n",
       "\n",
       "    .dataframe thead th {\n",
       "        text-align: right;\n",
       "    }\n",
       "</style>\n",
       "<table border=\"1\" class=\"dataframe\">\n",
       "  <thead>\n",
       "    <tr style=\"text-align: right;\">\n",
       "      <th></th>\n",
       "      <th>number_of_debtors</th>\n",
       "      <th>total_people</th>\n",
       "      <th>proportion_of_debtors</th>\n",
       "    </tr>\n",
       "    <tr>\n",
       "      <th>family_status</th>\n",
       "      <th></th>\n",
       "      <th></th>\n",
       "      <th></th>\n",
       "    </tr>\n",
       "  </thead>\n",
       "  <tbody>\n",
       "    <tr>\n",
       "      <th>Не женат / не замужем</th>\n",
       "      <td>273</td>\n",
       "      <td>2796</td>\n",
       "      <td>9.76%</td>\n",
       "    </tr>\n",
       "    <tr>\n",
       "      <th>в разводе</th>\n",
       "      <td>84</td>\n",
       "      <td>1189</td>\n",
       "      <td>7.06%</td>\n",
       "    </tr>\n",
       "    <tr>\n",
       "      <th>вдовец / вдова</th>\n",
       "      <td>63</td>\n",
       "      <td>951</td>\n",
       "      <td>6.62%</td>\n",
       "    </tr>\n",
       "    <tr>\n",
       "      <th>гражданский брак</th>\n",
       "      <td>385</td>\n",
       "      <td>4134</td>\n",
       "      <td>9.31%</td>\n",
       "    </tr>\n",
       "    <tr>\n",
       "      <th>женат / замужем</th>\n",
       "      <td>927</td>\n",
       "      <td>12261</td>\n",
       "      <td>7.56%</td>\n",
       "    </tr>\n",
       "  </tbody>\n",
       "</table>\n",
       "</div>"
      ],
      "text/plain": [
       "                       number_of_debtors  total_people proportion_of_debtors\n",
       "family_status                                                               \n",
       "Не женат / не замужем                273          2796                 9.76%\n",
       "в разводе                             84          1189                 7.06%\n",
       "вдовец / вдова                        63           951                 6.62%\n",
       "гражданский брак                     385          4134                 9.31%\n",
       "женат / замужем                      927         12261                 7.56%"
      ]
     },
     "metadata": {},
     "output_type": "display_data"
    }
   ],
   "source": [
    "family_status_debt = create_pivot_table(data, 'family_status')  # сводная таблица по семейному положению"
   ]
  },
  {
   "cell_type": "markdown",
   "id": "d84faf5a",
   "metadata": {
    "deletable": false,
    "id": "1cef7837"
   },
   "source": [
    "**Вывод:** \n",
    "Доля должников среди людей никогда не находившихся в официальном браке (\"Не женат / не замужем\", \"гражданский брак\") выше, чем в других группах "
   ]
  },
  {
   "cell_type": "markdown",
   "id": "21001705",
   "metadata": {
    "deletable": false,
    "editable": false,
    "id": "1e8b2fca"
   },
   "source": [
    "#### 3.3 Есть ли зависимость между уровнем дохода и возвратом кредита в срок?"
   ]
  },
  {
   "cell_type": "code",
   "execution_count": 26,
   "id": "30ff26b6",
   "metadata": {
    "deletable": false,
    "id": "cd7e3720"
   },
   "outputs": [
    {
     "data": {
      "text/html": [
       "<div>\n",
       "<style scoped>\n",
       "    .dataframe tbody tr th:only-of-type {\n",
       "        vertical-align: middle;\n",
       "    }\n",
       "\n",
       "    .dataframe tbody tr th {\n",
       "        vertical-align: top;\n",
       "    }\n",
       "\n",
       "    .dataframe thead th {\n",
       "        text-align: right;\n",
       "    }\n",
       "</style>\n",
       "<table border=\"1\" class=\"dataframe\">\n",
       "  <thead>\n",
       "    <tr style=\"text-align: right;\">\n",
       "      <th></th>\n",
       "      <th>number_of_debtors</th>\n",
       "      <th>total_people</th>\n",
       "      <th>proportion_of_debtors</th>\n",
       "    </tr>\n",
       "    <tr>\n",
       "      <th>total_income_category</th>\n",
       "      <th></th>\n",
       "      <th></th>\n",
       "      <th></th>\n",
       "    </tr>\n",
       "  </thead>\n",
       "  <tbody>\n",
       "    <tr>\n",
       "      <th>A</th>\n",
       "      <td>2</td>\n",
       "      <td>25</td>\n",
       "      <td>8.00%</td>\n",
       "    </tr>\n",
       "    <tr>\n",
       "      <th>B</th>\n",
       "      <td>354</td>\n",
       "      <td>5014</td>\n",
       "      <td>7.06%</td>\n",
       "    </tr>\n",
       "    <tr>\n",
       "      <th>C</th>\n",
       "      <td>1353</td>\n",
       "      <td>15921</td>\n",
       "      <td>8.50%</td>\n",
       "    </tr>\n",
       "    <tr>\n",
       "      <th>D</th>\n",
       "      <td>21</td>\n",
       "      <td>349</td>\n",
       "      <td>6.02%</td>\n",
       "    </tr>\n",
       "    <tr>\n",
       "      <th>E</th>\n",
       "      <td>2</td>\n",
       "      <td>22</td>\n",
       "      <td>9.09%</td>\n",
       "    </tr>\n",
       "  </tbody>\n",
       "</table>\n",
       "</div>"
      ],
      "text/plain": [
       "                       number_of_debtors  total_people proportion_of_debtors\n",
       "total_income_category                                                       \n",
       "A                                      2            25                 8.00%\n",
       "B                                    354          5014                 7.06%\n",
       "C                                   1353         15921                 8.50%\n",
       "D                                     21           349                 6.02%\n",
       "E                                      2            22                 9.09%"
      ]
     },
     "metadata": {},
     "output_type": "display_data"
    }
   ],
   "source": [
    "total_income_debt = create_pivot_table(data, 'total_income_category')  #сводная таблица по категориям дохода"
   ]
  },
  {
   "cell_type": "markdown",
   "id": "cc7fcbdd",
   "metadata": {
    "deletable": false,
    "id": "e8593def"
   },
   "source": [
    "**Вывод:** \n",
    "Прямой зависимости между уровнем дохода и возвратом кредита в срок нет. Можно утверждать, что самыми дисциплинированными являются клиенты с доходом 30001 - 50000. Наибольший процент должников среди тех, чей уровень дохода менее 30000, однако в этой группе всего 22 человека получили кредит, поэту уверенно утврждать, что люди с самым низким доходом являются самыми недисциплинированными нельзя\n",
    "Поскольку группы разделились не равномерно, делаю еще одну категоризацию по уровню дохода"
   ]
  },
  {
   "cell_type": "code",
   "execution_count": 27,
   "id": "5cf2ebab",
   "metadata": {},
   "outputs": [],
   "source": [
    "def categorize_income_new(income):#определяю новую функцию для категоризации данных по доходу\n",
    "    try:\n",
    "        if 0 <= income <= 100000:\n",
    "            return '<= 100000'\n",
    "        elif 100001 <= income <= 150000:\n",
    "            return '<= 150000'\n",
    "        elif 150001 <= income <= 200000:\n",
    "            return '<= 200000'\n",
    "        elif income >= 200001:\n",
    "            return '>= 200001'\n",
    "    except:\n",
    "        pass"
   ]
  },
  {
   "cell_type": "code",
   "execution_count": 28,
   "id": "5b241e2d",
   "metadata": {},
   "outputs": [],
   "source": [
    "data['total_income_category_new'] = data['total_income'].apply(categorize_income_new)"
   ]
  },
  {
   "cell_type": "code",
   "execution_count": 29,
   "id": "2a4002ee",
   "metadata": {
    "scrolled": true
   },
   "outputs": [
    {
     "data": {
      "text/html": [
       "<div>\n",
       "<style scoped>\n",
       "    .dataframe tbody tr th:only-of-type {\n",
       "        vertical-align: middle;\n",
       "    }\n",
       "\n",
       "    .dataframe tbody tr th {\n",
       "        vertical-align: top;\n",
       "    }\n",
       "\n",
       "    .dataframe thead th {\n",
       "        text-align: right;\n",
       "    }\n",
       "</style>\n",
       "<table border=\"1\" class=\"dataframe\">\n",
       "  <thead>\n",
       "    <tr style=\"text-align: right;\">\n",
       "      <th></th>\n",
       "      <th>number_of_debtors</th>\n",
       "      <th>total_people</th>\n",
       "      <th>proportion_of_debtors</th>\n",
       "    </tr>\n",
       "    <tr>\n",
       "      <th>total_income_category_new</th>\n",
       "      <th></th>\n",
       "      <th></th>\n",
       "      <th></th>\n",
       "    </tr>\n",
       "  </thead>\n",
       "  <tbody>\n",
       "    <tr>\n",
       "      <th>&lt;= 100000</th>\n",
       "      <td>354</td>\n",
       "      <td>4444</td>\n",
       "      <td>7.97%</td>\n",
       "    </tr>\n",
       "    <tr>\n",
       "      <th>&lt;= 150000</th>\n",
       "      <td>619</td>\n",
       "      <td>7110</td>\n",
       "      <td>8.71%</td>\n",
       "    </tr>\n",
       "    <tr>\n",
       "      <th>&lt;= 200000</th>\n",
       "      <td>403</td>\n",
       "      <td>4738</td>\n",
       "      <td>8.51%</td>\n",
       "    </tr>\n",
       "    <tr>\n",
       "      <th>&gt;= 200001</th>\n",
       "      <td>356</td>\n",
       "      <td>5039</td>\n",
       "      <td>7.06%</td>\n",
       "    </tr>\n",
       "  </tbody>\n",
       "</table>\n",
       "</div>"
      ],
      "text/plain": [
       "                           number_of_debtors  total_people  \\\n",
       "total_income_category_new                                    \n",
       "<= 100000                                354          4444   \n",
       "<= 150000                                619          7110   \n",
       "<= 200000                                403          4738   \n",
       ">= 200001                                356          5039   \n",
       "\n",
       "                          proportion_of_debtors  \n",
       "total_income_category_new                        \n",
       "<= 100000                                 7.97%  \n",
       "<= 150000                                 8.71%  \n",
       "<= 200000                                 8.51%  \n",
       ">= 200001                                 7.06%  "
      ]
     },
     "metadata": {},
     "output_type": "display_data"
    }
   ],
   "source": [
    "total_income_debt_new = create_pivot_table(data, 'total_income_category_new')  #новая сводная таблица по категориям дохода"
   ]
  },
  {
   "cell_type": "markdown",
   "id": "3764478b",
   "metadata": {},
   "source": [
    "**Вывод:**\n",
    "Процент просроченных кредитов имеет тенденцию к увеличению до уровня дохода 150000 и затем начинает снижаться. Процент должников наибольший для категории дохода от 100000 до 150000 (8.71%). Наименьший процент должников наблюдается в группе с доходом более 200000 (7.06%)"
   ]
  },
  {
   "cell_type": "markdown",
   "id": "c9d29466",
   "metadata": {
    "deletable": false,
    "editable": false,
    "id": "99ecbd1f"
   },
   "source": [
    "#### 3.4 Как разные цели кредита влияют на его возврат в срок?"
   ]
  },
  {
   "cell_type": "code",
   "execution_count": 30,
   "id": "34be8186",
   "metadata": {
    "deletable": false,
    "id": "2b687290"
   },
   "outputs": [
    {
     "data": {
      "text/html": [
       "<div>\n",
       "<style scoped>\n",
       "    .dataframe tbody tr th:only-of-type {\n",
       "        vertical-align: middle;\n",
       "    }\n",
       "\n",
       "    .dataframe tbody tr th {\n",
       "        vertical-align: top;\n",
       "    }\n",
       "\n",
       "    .dataframe thead th {\n",
       "        text-align: right;\n",
       "    }\n",
       "</style>\n",
       "<table border=\"1\" class=\"dataframe\">\n",
       "  <thead>\n",
       "    <tr style=\"text-align: right;\">\n",
       "      <th></th>\n",
       "      <th>number_of_debtors</th>\n",
       "      <th>total_people</th>\n",
       "      <th>proportion_of_debtors</th>\n",
       "    </tr>\n",
       "    <tr>\n",
       "      <th>purpose_category</th>\n",
       "      <th></th>\n",
       "      <th></th>\n",
       "      <th></th>\n",
       "    </tr>\n",
       "  </thead>\n",
       "  <tbody>\n",
       "    <tr>\n",
       "      <th>операции с автомобилем</th>\n",
       "      <td>400</td>\n",
       "      <td>4279</td>\n",
       "      <td>9.35%</td>\n",
       "    </tr>\n",
       "    <tr>\n",
       "      <th>операции с недвижимостью</th>\n",
       "      <td>780</td>\n",
       "      <td>10751</td>\n",
       "      <td>7.26%</td>\n",
       "    </tr>\n",
       "    <tr>\n",
       "      <th>получение образования</th>\n",
       "      <td>369</td>\n",
       "      <td>3988</td>\n",
       "      <td>9.25%</td>\n",
       "    </tr>\n",
       "    <tr>\n",
       "      <th>проведение свадьбы</th>\n",
       "      <td>183</td>\n",
       "      <td>2313</td>\n",
       "      <td>7.91%</td>\n",
       "    </tr>\n",
       "  </tbody>\n",
       "</table>\n",
       "</div>"
      ],
      "text/plain": [
       "                          number_of_debtors  total_people  \\\n",
       "purpose_category                                            \n",
       "операции с автомобилем                  400          4279   \n",
       "операции с недвижимостью                780         10751   \n",
       "получение образования                   369          3988   \n",
       "проведение свадьбы                      183          2313   \n",
       "\n",
       "                         proportion_of_debtors  \n",
       "purpose_category                                \n",
       "операции с автомобилем                   9.35%  \n",
       "операции с недвижимостью                 7.26%  \n",
       "получение образования                    9.25%  \n",
       "проведение свадьбы                       7.91%  "
      ]
     },
     "metadata": {},
     "output_type": "display_data"
    }
   ],
   "source": [
    "purpose_debt = create_pivot_table(data, 'purpose_category')  #сводная таблица по категориям назначения кредита"
   ]
  },
  {
   "cell_type": "markdown",
   "id": "3eeeb588",
   "metadata": {
    "deletable": false,
    "id": "b4bb2ce6"
   },
   "source": [
    "**Вывод:** \n",
    "Наименьшее количество должников среди людей, которые брали кредит на цели связанные с оперциями с недвижимостью. Наибольший процент должников среди людей с кредитами, связанными с автомобилем и получением образования"
   ]
  },
  {
   "cell_type": "markdown",
   "id": "fcf1a211",
   "metadata": {
    "deletable": false,
    "editable": false,
    "id": "09c3ac4c"
   },
   "source": [
    "#### 3.5 Приведите возможные причины появления пропусков в исходных данных."
   ]
  },
  {
   "cell_type": "markdown",
   "id": "4ec85d20",
   "metadata": {
    "deletable": false,
    "id": "9da2ceda"
   },
   "source": [
    "*Ответ:* \n",
    "Пропуски в исходных данных могут возникнуть по следующим причинам:\n",
    "1. Неполное заполнение анкет или форм – респонденты могли пропустить некоторые вопросы.\n",
    "2. Технические сбои при проведении опросов или сборе данных (например, сбои в программном обеспечении или оборудовании).\n",
    "3. Данные могли быть неправильно введены вручную, что привело к пропускам.\n",
    "4. Ошибки форматирования, когда система не распознала данные и пропустила их.\n",
    "5. Данные могут быть загружены из разных источников, и если некоторые источники имеют неполные записи, это может привести к пропускам.\n",
    "6. Проблемы с совместимостью форматов данных могут вызвать потери или пропуски."
   ]
  },
  {
   "cell_type": "markdown",
   "id": "564da98e",
   "metadata": {
    "deletable": false,
    "editable": false,
    "id": "7b0487d6"
   },
   "source": [
    "#### 3.6 Объясните, почему заполнить пропуски медианным значением — лучшее решение для количественных переменных."
   ]
  },
  {
   "cell_type": "markdown",
   "id": "1326e7ba",
   "metadata": {
    "deletable": false,
    "id": "7ecf2b8e"
   },
   "source": [
    "*Ответ:*\n",
    "Медиана, в отличие от среднего арифметического, менее чувствительна к выбросам. Если в данных содержатся экстремальные значения, среднее может быть сильно искажено, что приведет к неправильному заполнению пропусков. Медиана, будучи вычисленной как значение, разделяющее данные пополам, обеспечивает более стабильный и реалистичный подход."
   ]
  },
  {
   "cell_type": "markdown",
   "id": "d243f39c",
   "metadata": {
    "deletable": false,
    "editable": false,
    "id": "6db5255a"
   },
   "source": [
    "### Шаг 4: общий вывод."
   ]
  },
  {
   "cell_type": "markdown",
   "id": "589fc776",
   "metadata": {
    "deletable": false,
    "id": "bad65432"
   },
   "source": [
    "В ходе работы над проектом в данные были внесены следующие **изменения**:\n",
    "1. Пропуски в столбцах days_employed и total_income заполнены медианными значениями;\n",
    "2. В столбце children были удалены аномальные значения;\n",
    "3. Созданы дополнительные столбцы total_income_category, total_income_category_new и purpose_category в которых все заемщики разделены на категории по уровню дохода и цели кредита\n",
    "\n",
    "После анализа данных таблицы были сделаны следующие **выводы**: \n",
    "1. Между количеством детей и возвратом кредита в срок наблюдается зависимость. Процент просрочки кредитов увеличивается с увеличением количества детей (с 7.54% для заемщиков без детей до 9.45% для заемщиков с двумя детьми).\n",
    "2. Доля должников среди людей никогда не находившихся в официальном браке (\"Не женат / не замужем\", \"гражданский брак\") выше, чем в других группах.\n",
    "3. Процент просроченных кредитов имеет тенденцию к увеличению до уровня дохода 150000 и затем начинает снижаться. Процент должников наибольший для категории дохода от 100000 до 150000 (8.71%). Наименьший процент должников наблюдается в группе с доходом более 200000 (7.06%).\n",
    "4. Наименьшее количество должников среди людей, которые брали кредит на цели связанные с оперциями с недвижимостью (7.26%). Наибольший процент должников среди людей с кредитами, связанными с автомобилем и получением образования (по 9%).\n",
    "\n",
    "**ЗАКЛЮЧЕНИЕ**\n",
    "\n",
    "Наибольшее количество должников наблюдается среди клиентов, которые никогда не были в официальном браке, имеют детей и доход ниже 30 000, и цель займа — приобретение автомобиля или получение образования. Так называемый \"идеальный\" клиент выглядит следующим образом: вдовец или вдова без детей с уровнем дохода от 200 001 до 1 000 000, целью кредита которого являются операции с недвижимостью."
   ]
  }
 ],
 "metadata": {
  "ExecuteTimeLog": [
   {
    "duration": 514,
    "start_time": "2024-11-02T09:54:56.892Z"
   },
   {
    "duration": 23,
    "start_time": "2024-11-02T09:55:00.821Z"
   },
   {
    "duration": 21,
    "start_time": "2024-11-02T09:55:09.385Z"
   },
   {
    "duration": 11,
    "start_time": "2024-11-02T09:55:14.817Z"
   },
   {
    "duration": 37,
    "start_time": "2024-11-02T09:55:18.458Z"
   },
   {
    "duration": 4,
    "start_time": "2024-11-02T09:55:21.252Z"
   },
   {
    "duration": 7,
    "start_time": "2024-11-02T09:55:22.786Z"
   },
   {
    "duration": 5,
    "start_time": "2024-11-02T09:55:25.789Z"
   },
   {
    "duration": 9,
    "start_time": "2024-11-02T09:57:36.213Z"
   },
   {
    "duration": 11,
    "start_time": "2024-11-02T09:57:42.693Z"
   },
   {
    "duration": 4,
    "start_time": "2024-11-02T09:57:46.535Z"
   },
   {
    "duration": 49,
    "start_time": "2024-11-02T09:57:50.230Z"
   },
   {
    "duration": 11,
    "start_time": "2024-11-02T09:57:53.373Z"
   },
   {
    "duration": 4,
    "start_time": "2024-11-02T09:57:56.421Z"
   },
   {
    "duration": 11,
    "start_time": "2024-11-02T09:57:59.569Z"
   },
   {
    "duration": 28,
    "start_time": "2024-11-02T09:58:02.291Z"
   },
   {
    "duration": 17,
    "start_time": "2024-11-02T09:58:04.264Z"
   },
   {
    "duration": 4,
    "start_time": "2024-11-02T09:58:08.450Z"
   },
   {
    "duration": 18,
    "start_time": "2024-11-02T09:58:10.698Z"
   },
   {
    "duration": 11,
    "start_time": "2024-11-02T09:58:13.315Z"
   },
   {
    "duration": 8,
    "start_time": "2024-11-02T09:58:17.698Z"
   },
   {
    "duration": 12,
    "start_time": "2024-11-02T09:58:20.331Z"
   },
   {
    "duration": 50,
    "start_time": "2024-11-07T12:46:08.507Z"
   },
   {
    "duration": 557,
    "start_time": "2024-11-07T12:46:16.718Z"
   },
   {
    "duration": 23,
    "start_time": "2024-11-07T12:46:19.727Z"
   },
   {
    "duration": 16,
    "start_time": "2024-11-07T12:46:23.430Z"
   },
   {
    "duration": 10,
    "start_time": "2024-11-07T12:46:26.070Z"
   },
   {
    "duration": 36,
    "start_time": "2024-11-07T12:46:28.950Z"
   },
   {
    "duration": 4,
    "start_time": "2024-11-07T12:46:31.294Z"
   },
   {
    "duration": 9,
    "start_time": "2024-11-07T12:46:33.357Z"
   },
   {
    "duration": 4,
    "start_time": "2024-11-07T12:46:38.830Z"
   },
   {
    "duration": 7,
    "start_time": "2024-11-07T12:46:41.981Z"
   },
   {
    "duration": 4,
    "start_time": "2024-11-07T12:46:44.358Z"
   },
   {
    "duration": 35,
    "start_time": "2024-11-07T12:46:47.134Z"
   },
   {
    "duration": 11,
    "start_time": "2024-11-07T12:46:49.374Z"
   },
   {
    "duration": 3,
    "start_time": "2024-11-07T12:46:52.238Z"
   },
   {
    "duration": 13,
    "start_time": "2024-11-07T12:46:54.533Z"
   },
   {
    "duration": 21,
    "start_time": "2024-11-07T12:46:56.862Z"
   },
   {
    "duration": 16,
    "start_time": "2024-11-07T12:46:59.142Z"
   },
   {
    "duration": 4,
    "start_time": "2024-11-07T12:47:03.022Z"
   },
   {
    "duration": 11,
    "start_time": "2024-11-07T12:47:04.934Z"
   },
   {
    "duration": 6,
    "start_time": "2024-11-07T12:47:07.510Z"
   },
   {
    "duration": 3,
    "start_time": "2024-11-07T12:47:11.238Z"
   },
   {
    "duration": 9,
    "start_time": "2024-11-07T12:47:13.030Z"
   },
   {
    "duration": 16,
    "start_time": "2024-11-07T12:47:16.871Z"
   },
   {
    "duration": 10,
    "start_time": "2024-11-07T12:53:31.040Z"
   },
   {
    "duration": 10,
    "start_time": "2024-11-07T12:53:40.703Z"
   },
   {
    "duration": 12,
    "start_time": "2024-11-07T12:53:48.318Z"
   },
   {
    "duration": 7,
    "start_time": "2024-11-07T12:53:55.623Z"
   },
   {
    "duration": 10,
    "start_time": "2024-11-07T12:59:16.506Z"
   },
   {
    "duration": 14,
    "start_time": "2024-11-07T13:09:09.114Z"
   },
   {
    "duration": 8,
    "start_time": "2024-11-07T13:11:38.562Z"
   },
   {
    "duration": 23,
    "start_time": "2024-11-07T13:17:41.300Z"
   },
   {
    "duration": 13,
    "start_time": "2024-11-07T13:19:30.805Z"
   },
   {
    "duration": 8,
    "start_time": "2024-11-07T13:20:44.556Z"
   },
   {
    "duration": 14,
    "start_time": "2024-11-07T13:28:04.246Z"
   },
   {
    "duration": 7,
    "start_time": "2024-11-07T13:28:53.774Z"
   },
   {
    "duration": 8,
    "start_time": "2024-11-07T13:29:13.846Z"
   },
   {
    "duration": 21,
    "start_time": "2024-11-07T13:33:10.303Z"
   },
   {
    "duration": 22,
    "start_time": "2024-11-07T13:34:27.216Z"
   },
   {
    "duration": 20,
    "start_time": "2024-11-07T13:34:43.887Z"
   },
   {
    "duration": 13,
    "start_time": "2024-11-07T13:35:04.528Z"
   },
   {
    "duration": 484,
    "start_time": "2024-11-07T15:47:08.622Z"
   },
   {
    "duration": 19,
    "start_time": "2024-11-07T15:47:09.108Z"
   },
   {
    "duration": 16,
    "start_time": "2024-11-07T15:47:09.129Z"
   },
   {
    "duration": 13,
    "start_time": "2024-11-07T15:47:09.147Z"
   },
   {
    "duration": 34,
    "start_time": "2024-11-07T15:47:09.161Z"
   },
   {
    "duration": 25,
    "start_time": "2024-11-07T15:47:09.197Z"
   },
   {
    "duration": 8,
    "start_time": "2024-11-07T15:47:09.223Z"
   },
   {
    "duration": 4,
    "start_time": "2024-11-07T15:47:09.233Z"
   },
   {
    "duration": 12,
    "start_time": "2024-11-07T15:47:09.239Z"
   },
   {
    "duration": 4,
    "start_time": "2024-11-07T15:47:09.255Z"
   },
   {
    "duration": 64,
    "start_time": "2024-11-07T15:47:09.260Z"
   },
   {
    "duration": 10,
    "start_time": "2024-11-07T15:47:09.325Z"
   },
   {
    "duration": 3,
    "start_time": "2024-11-07T15:47:09.337Z"
   },
   {
    "duration": 17,
    "start_time": "2024-11-07T15:47:09.341Z"
   },
   {
    "duration": 18,
    "start_time": "2024-11-07T15:47:09.359Z"
   },
   {
    "duration": 15,
    "start_time": "2024-11-07T15:47:09.378Z"
   },
   {
    "duration": 3,
    "start_time": "2024-11-07T15:47:09.421Z"
   },
   {
    "duration": 11,
    "start_time": "2024-11-07T15:47:09.426Z"
   },
   {
    "duration": 6,
    "start_time": "2024-11-07T15:47:09.439Z"
   },
   {
    "duration": 3,
    "start_time": "2024-11-07T15:47:09.447Z"
   },
   {
    "duration": 10,
    "start_time": "2024-11-07T15:47:09.452Z"
   },
   {
    "duration": 10,
    "start_time": "2024-11-07T15:47:09.463Z"
   },
   {
    "duration": 7,
    "start_time": "2024-11-07T15:47:09.474Z"
   },
   {
    "duration": 50,
    "start_time": "2024-11-07T15:47:09.482Z"
   },
   {
    "duration": 7,
    "start_time": "2024-11-07T15:47:09.533Z"
   },
   {
    "duration": 22,
    "start_time": "2024-11-07T15:47:09.541Z"
   },
   {
    "duration": 6,
    "start_time": "2024-11-07T15:47:09.564Z"
   },
   {
    "duration": 11,
    "start_time": "2024-11-07T15:47:09.573Z"
   },
   {
    "duration": 6,
    "start_time": "2024-11-07T15:47:09.621Z"
   },
   {
    "duration": 50,
    "start_time": "2024-11-07T15:47:19.114Z"
   },
   {
    "duration": 8,
    "start_time": "2024-11-08T08:54:29.889Z"
   },
   {
    "duration": 40,
    "start_time": "2024-11-08T08:54:38.998Z"
   },
   {
    "duration": 549,
    "start_time": "2024-11-08T08:54:52.301Z"
   },
   {
    "duration": 18,
    "start_time": "2024-11-08T08:54:55.173Z"
   },
   {
    "duration": 17,
    "start_time": "2024-11-08T08:54:59.164Z"
   },
   {
    "duration": 9,
    "start_time": "2024-11-08T08:55:02.100Z"
   },
   {
    "duration": 29,
    "start_time": "2024-11-08T08:55:05.444Z"
   },
   {
    "duration": 3,
    "start_time": "2024-11-08T08:55:07.468Z"
   },
   {
    "duration": 7,
    "start_time": "2024-11-08T08:55:09.892Z"
   },
   {
    "duration": 4,
    "start_time": "2024-11-08T08:55:13.069Z"
   },
   {
    "duration": 6,
    "start_time": "2024-11-08T08:55:15.893Z"
   },
   {
    "duration": 5,
    "start_time": "2024-11-08T08:55:18.460Z"
   },
   {
    "duration": 27,
    "start_time": "2024-11-08T08:55:20.628Z"
   },
   {
    "duration": 10,
    "start_time": "2024-11-08T08:55:23.253Z"
   },
   {
    "duration": 3,
    "start_time": "2024-11-08T08:55:26.660Z"
   },
   {
    "duration": 12,
    "start_time": "2024-11-08T08:55:29.053Z"
   },
   {
    "duration": 19,
    "start_time": "2024-11-08T08:55:32.164Z"
   },
   {
    "duration": 16,
    "start_time": "2024-11-08T08:55:34.292Z"
   },
   {
    "duration": 3,
    "start_time": "2024-11-08T08:55:38.701Z"
   },
   {
    "duration": 9,
    "start_time": "2024-11-08T08:55:40.748Z"
   },
   {
    "duration": 5,
    "start_time": "2024-11-08T08:55:43.492Z"
   },
   {
    "duration": 3,
    "start_time": "2024-11-08T08:55:47.204Z"
   },
   {
    "duration": 8,
    "start_time": "2024-11-08T08:55:49.116Z"
   },
   {
    "duration": 4,
    "start_time": "2024-11-08T08:55:52.997Z"
   },
   {
    "duration": 11,
    "start_time": "2024-11-08T08:55:56.301Z"
   },
   {
    "duration": 3,
    "start_time": "2024-11-08T08:56:24.813Z"
   },
   {
    "duration": 7,
    "start_time": "2024-11-08T08:56:29.900Z"
   },
   {
    "duration": 6,
    "start_time": "2024-11-08T08:57:49.445Z"
   },
   {
    "duration": 4,
    "start_time": "2024-11-08T08:57:53.012Z"
   },
   {
    "duration": 7,
    "start_time": "2024-11-08T08:57:55.149Z"
   },
   {
    "duration": 9,
    "start_time": "2024-11-08T08:58:45.222Z"
   },
   {
    "duration": 8,
    "start_time": "2024-11-08T08:59:07.901Z"
   },
   {
    "duration": 10,
    "start_time": "2024-11-08T08:59:29.549Z"
   },
   {
    "duration": 4,
    "start_time": "2024-11-08T09:28:19.442Z"
   },
   {
    "duration": 12,
    "start_time": "2024-11-08T09:28:36.621Z"
   },
   {
    "duration": 15,
    "start_time": "2024-11-08T09:29:34.922Z"
   },
   {
    "duration": 18,
    "start_time": "2024-11-08T09:30:17.930Z"
   },
   {
    "duration": 13,
    "start_time": "2024-11-08T09:32:05.434Z"
   },
   {
    "duration": 81,
    "start_time": "2024-11-08T09:34:20.803Z"
   },
   {
    "duration": 4,
    "start_time": "2024-11-08T11:01:48.363Z"
   },
   {
    "duration": 9,
    "start_time": "2024-11-08T11:01:50.469Z"
   },
   {
    "duration": 22,
    "start_time": "2024-11-08T11:02:55.357Z"
   },
   {
    "duration": 14,
    "start_time": "2024-11-08T11:03:32.580Z"
   },
   {
    "duration": 33,
    "start_time": "2024-11-08T11:03:35.644Z"
   },
   {
    "duration": 3,
    "start_time": "2024-11-08T11:04:48.748Z"
   },
   {
    "duration": 8,
    "start_time": "2024-11-08T11:04:50.036Z"
   },
   {
    "duration": 13,
    "start_time": "2024-11-08T11:04:51.876Z"
   },
   {
    "duration": 4,
    "start_time": "2024-11-08T11:05:37.677Z"
   },
   {
    "duration": 19,
    "start_time": "2024-11-08T11:05:39.830Z"
   },
   {
    "duration": 16,
    "start_time": "2024-11-08T11:05:42.261Z"
   },
   {
    "duration": 4,
    "start_time": "2024-11-08T11:24:47.621Z"
   },
   {
    "duration": 8,
    "start_time": "2024-11-08T11:24:49.631Z"
   },
   {
    "duration": 14,
    "start_time": "2024-11-08T11:24:53.575Z"
   },
   {
    "duration": 79,
    "start_time": "2024-11-08T11:32:50.761Z"
   },
   {
    "duration": 63,
    "start_time": "2024-11-08T11:32:53.617Z"
   },
   {
    "duration": 88,
    "start_time": "2024-11-08T12:52:11.338Z"
   },
   {
    "duration": 445,
    "start_time": "2024-11-08T12:52:41.321Z"
   },
   {
    "duration": 18,
    "start_time": "2024-11-08T12:52:41.767Z"
   },
   {
    "duration": 30,
    "start_time": "2024-11-08T12:52:41.786Z"
   },
   {
    "duration": 16,
    "start_time": "2024-11-08T12:52:41.818Z"
   },
   {
    "duration": 46,
    "start_time": "2024-11-08T12:52:41.836Z"
   },
   {
    "duration": 3,
    "start_time": "2024-11-08T12:52:41.884Z"
   },
   {
    "duration": 12,
    "start_time": "2024-11-08T12:52:41.888Z"
   },
   {
    "duration": 4,
    "start_time": "2024-11-08T12:52:41.901Z"
   },
   {
    "duration": 19,
    "start_time": "2024-11-08T12:52:41.906Z"
   },
   {
    "duration": 7,
    "start_time": "2024-11-08T12:52:41.928Z"
   },
   {
    "duration": 47,
    "start_time": "2024-11-08T12:52:41.936Z"
   },
   {
    "duration": 8,
    "start_time": "2024-11-08T12:52:41.984Z"
   },
   {
    "duration": 31,
    "start_time": "2024-11-08T12:52:41.993Z"
   },
   {
    "duration": 20,
    "start_time": "2024-11-08T12:52:42.025Z"
   },
   {
    "duration": 18,
    "start_time": "2024-11-08T12:52:42.046Z"
   },
   {
    "duration": 15,
    "start_time": "2024-11-08T12:52:42.066Z"
   },
   {
    "duration": 63,
    "start_time": "2024-11-08T12:52:42.083Z"
   },
   {
    "duration": 14,
    "start_time": "2024-11-08T12:52:42.148Z"
   },
   {
    "duration": 11,
    "start_time": "2024-11-08T12:52:42.163Z"
   },
   {
    "duration": 5,
    "start_time": "2024-11-08T12:52:42.176Z"
   },
   {
    "duration": 15,
    "start_time": "2024-11-08T12:52:42.182Z"
   },
   {
    "duration": 6,
    "start_time": "2024-11-08T12:52:42.198Z"
   },
   {
    "duration": 16,
    "start_time": "2024-11-08T12:52:42.206Z"
   },
   {
    "duration": 12,
    "start_time": "2024-11-08T12:52:42.223Z"
   },
   {
    "duration": 12,
    "start_time": "2024-11-08T12:52:42.236Z"
   },
   {
    "duration": 3,
    "start_time": "2024-11-08T12:52:42.250Z"
   },
   {
    "duration": 27,
    "start_time": "2024-11-08T12:52:42.254Z"
   },
   {
    "duration": 28,
    "start_time": "2024-11-08T12:52:42.284Z"
   },
   {
    "duration": 50,
    "start_time": "2024-11-08T12:52:42.314Z"
   },
   {
    "duration": 505,
    "start_time": "2024-11-08T16:18:24.714Z"
   },
   {
    "duration": 21,
    "start_time": "2024-11-08T16:18:25.221Z"
   },
   {
    "duration": 16,
    "start_time": "2024-11-08T16:18:25.244Z"
   },
   {
    "duration": 11,
    "start_time": "2024-11-08T16:18:25.262Z"
   },
   {
    "duration": 65,
    "start_time": "2024-11-08T16:18:25.274Z"
   },
   {
    "duration": 5,
    "start_time": "2024-11-08T16:18:25.340Z"
   },
   {
    "duration": 29,
    "start_time": "2024-11-08T16:18:25.346Z"
   },
   {
    "duration": 4,
    "start_time": "2024-11-08T16:18:25.377Z"
   },
   {
    "duration": 9,
    "start_time": "2024-11-08T16:18:25.382Z"
   },
   {
    "duration": 4,
    "start_time": "2024-11-08T16:18:25.394Z"
   },
   {
    "duration": 41,
    "start_time": "2024-11-08T16:18:25.399Z"
   },
   {
    "duration": 10,
    "start_time": "2024-11-08T16:18:25.442Z"
   },
   {
    "duration": 5,
    "start_time": "2024-11-08T16:18:25.453Z"
   },
   {
    "duration": 12,
    "start_time": "2024-11-08T16:18:25.459Z"
   },
   {
    "duration": 20,
    "start_time": "2024-11-08T16:18:25.473Z"
   },
   {
    "duration": 43,
    "start_time": "2024-11-08T16:18:25.494Z"
   },
   {
    "duration": 4,
    "start_time": "2024-11-08T16:18:25.538Z"
   },
   {
    "duration": 22,
    "start_time": "2024-11-08T16:18:25.543Z"
   },
   {
    "duration": 6,
    "start_time": "2024-11-08T16:18:25.566Z"
   },
   {
    "duration": 3,
    "start_time": "2024-11-08T16:18:25.573Z"
   },
   {
    "duration": 8,
    "start_time": "2024-11-08T16:18:25.578Z"
   },
   {
    "duration": 5,
    "start_time": "2024-11-08T16:18:25.587Z"
   },
   {
    "duration": 36,
    "start_time": "2024-11-08T16:18:25.593Z"
   },
   {
    "duration": 13,
    "start_time": "2024-11-08T16:18:25.631Z"
   },
   {
    "duration": 13,
    "start_time": "2024-11-08T16:18:25.646Z"
   },
   {
    "duration": 3,
    "start_time": "2024-11-08T16:18:25.660Z"
   },
   {
    "duration": 19,
    "start_time": "2024-11-08T16:18:25.665Z"
   },
   {
    "duration": 45,
    "start_time": "2024-11-08T16:18:25.687Z"
   },
   {
    "duration": 17,
    "start_time": "2024-11-08T16:18:25.733Z"
   },
   {
    "duration": 5,
    "start_time": "2024-11-08T16:30:11.412Z"
   },
   {
    "duration": 11,
    "start_time": "2024-11-08T16:30:15.133Z"
   },
   {
    "duration": 13,
    "start_time": "2024-11-08T16:34:07.841Z"
   },
   {
    "duration": 16,
    "start_time": "2024-11-08T16:35:32.181Z"
   },
   {
    "duration": 15,
    "start_time": "2024-11-08T16:35:45.902Z"
   },
   {
    "duration": 16,
    "start_time": "2024-11-08T16:35:48.214Z"
   },
   {
    "duration": 12,
    "start_time": "2024-11-08T16:37:36.125Z"
   },
   {
    "duration": 453,
    "start_time": "2024-11-08T16:38:20.752Z"
   },
   {
    "duration": 19,
    "start_time": "2024-11-08T16:38:21.207Z"
   },
   {
    "duration": 16,
    "start_time": "2024-11-08T16:38:21.227Z"
   },
   {
    "duration": 68,
    "start_time": "2024-11-08T16:38:21.245Z"
   },
   {
    "duration": 36,
    "start_time": "2024-11-08T16:38:21.315Z"
   },
   {
    "duration": 3,
    "start_time": "2024-11-08T16:38:21.353Z"
   },
   {
    "duration": 69,
    "start_time": "2024-11-08T16:38:21.358Z"
   },
   {
    "duration": 71,
    "start_time": "2024-11-08T16:38:21.429Z"
   },
   {
    "duration": 8,
    "start_time": "2024-11-08T16:38:21.502Z"
   },
   {
    "duration": 4,
    "start_time": "2024-11-08T16:38:21.515Z"
   },
   {
    "duration": 40,
    "start_time": "2024-11-08T16:38:21.521Z"
   },
   {
    "duration": 11,
    "start_time": "2024-11-08T16:38:21.562Z"
   },
   {
    "duration": 4,
    "start_time": "2024-11-08T16:38:21.574Z"
   },
   {
    "duration": 12,
    "start_time": "2024-11-08T16:38:21.579Z"
   },
   {
    "duration": 49,
    "start_time": "2024-11-08T16:38:21.592Z"
   },
   {
    "duration": 24,
    "start_time": "2024-11-08T16:38:21.642Z"
   },
   {
    "duration": 4,
    "start_time": "2024-11-08T16:38:21.667Z"
   },
   {
    "duration": 11,
    "start_time": "2024-11-08T16:38:21.672Z"
   },
   {
    "duration": 5,
    "start_time": "2024-11-08T16:38:21.685Z"
   },
   {
    "duration": 29,
    "start_time": "2024-11-08T16:38:21.692Z"
   },
   {
    "duration": 10,
    "start_time": "2024-11-08T16:38:21.722Z"
   },
   {
    "duration": 8,
    "start_time": "2024-11-08T16:38:21.733Z"
   },
   {
    "duration": 4,
    "start_time": "2024-11-08T16:38:21.743Z"
   },
   {
    "duration": 22,
    "start_time": "2024-11-08T16:38:21.749Z"
   },
   {
    "duration": 12,
    "start_time": "2024-11-08T16:38:21.772Z"
   },
   {
    "duration": 36,
    "start_time": "2024-11-08T16:38:21.785Z"
   },
   {
    "duration": 3,
    "start_time": "2024-11-08T16:38:21.823Z"
   },
   {
    "duration": 13,
    "start_time": "2024-11-08T16:38:21.828Z"
   },
   {
    "duration": 12,
    "start_time": "2024-11-08T16:38:21.842Z"
   },
   {
    "duration": 11,
    "start_time": "2024-11-08T16:38:21.856Z"
   }
  ],
  "colab": {
   "name": "dpp_template_part2.ipynb",
   "provenance": []
  },
  "kernelspec": {
   "display_name": "Python 3 (ipykernel)",
   "language": "python",
   "name": "python3"
  },
  "language_info": {
   "codemirror_mode": {
    "name": "ipython",
    "version": 3
   },
   "file_extension": ".py",
   "mimetype": "text/x-python",
   "name": "python",
   "nbconvert_exporter": "python",
   "pygments_lexer": "ipython3",
   "version": "3.10.9"
  },
  "toc": {
   "base_numbering": 1,
   "nav_menu": {},
   "number_sections": true,
   "sideBar": true,
   "skip_h1_title": true,
   "title_cell": "Table of Contents",
   "title_sidebar": "Contents",
   "toc_cell": false,
   "toc_position": {
    "height": "calc(100% - 180px)",
    "left": "10px",
    "top": "150px",
    "width": "320px"
   },
   "toc_section_display": true,
   "toc_window_display": true
  }
 },
 "nbformat": 4,
 "nbformat_minor": 5
}
